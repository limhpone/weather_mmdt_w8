{
  "nbformat": 4,
  "nbformat_minor": 0,
  "metadata": {
    "colab": {
      "provenance": []
    },
    "kernelspec": {
      "name": "python3",
      "display_name": "Python 3"
    },
    "language_info": {
      "name": "python"
    }
  },
  "cells": [
    {
      "cell_type": "code",
      "execution_count": 37,
      "metadata": {
        "id": "pTc2wTL-V0xK"
      },
      "outputs": [],
      "source": [
        "import requests\n",
        "import pandas as pd"
      ]
    },
    {
      "cell_type": "code",
      "source": [
        "Api_key = '07a03f94ad51150199d0f7a8624c7313'\n",
        "base_url = 'http://api.openweathermap.org/data/2.5/weather'\n",
        "#test\n",
        "#weather_url = f'http://api.openweathermap.org/geo/1.0/direct?q=London&limit=5&appid=07a03f94ad51150199d0f7a8624c7313'\n",
        "\n",
        "#response= requests.get(weather_url)\n",
        "#data = response.json()\n",
        "#print(data)"
      ],
      "metadata": {
        "id": "2eAAps3_nuCX"
      },
      "execution_count": 47,
      "outputs": []
    },
    {
      "cell_type": "code",
      "source": [
        "while 1:\n",
        "\n",
        "    location = input('\\nEnter the Location :')\n",
        "    url = f\"{base_url}?appid={Api_key}&q={location}\"\n",
        "    try:\n",
        "        weather = requests.get(url).json()\n",
        "        data = f\"Location Name: {weather['name']}\\n\" \\\n",
        "       f\"Temperature Min: {weather['main']['temp_min']} K\\n\" \\\n",
        "       f\"Temperature Max: {weather['main']['temp_max']} K\\n\" \\\n",
        "       f\"Weather Description/Condition: {weather['weather'][0]['description']}\\n\"\n",
        "\n",
        "\n",
        "    except:\n",
        "        data = weather['error']['message']\n",
        "    print(data)\n",
        "\n",
        "    cont = input(\"Do you want to continue? (Y/N): \").strip().lower()\n",
        "    if cont != 'y':\n",
        "        print(\"Exiting... Goodbye!\")\n",
        "        break\n"
      ],
      "metadata": {
        "colab": {
          "base_uri": "https://localhost:8080/"
        },
        "id": "O5Ro_SWDt-g7",
        "outputId": "c980c477-adcf-49d2-ff4d-5f287317e5c1"
      },
      "execution_count": 49,
      "outputs": [
        {
          "output_type": "stream",
          "name": "stdout",
          "text": [
            "\n",
            "Enter the Location :London\n",
            "Location Name: London\n",
            "Temperature Min: 283.66 K\n",
            "Temperature Max: 285.93 K\n",
            "Weather Description/Condition: few clouds\n",
            "\n",
            "Do you want to continue? (Y/N): Y\n",
            "\n",
            "Enter the Location :Myanmar\n",
            "Location Name: Myanmar\n",
            "Temperature Min: 300.86 K\n",
            "Temperature Max: 300.86 K\n",
            "Weather Description/Condition: clear sky\n",
            "\n",
            "Do you want to continue? (Y/N): N\n",
            "Exiting... Goodbye!\n"
          ]
        }
      ]
    },
    {
      "cell_type": "code",
      "source": [
        "city = input('Enter a city/state name: ')\n",
        "\n",
        "request_url = f\"{base_url}?appid={Api_key}&q={city}\"\n",
        "response = requests.get(request_url)\n",
        "\n",
        "if response.status_code==200:\n",
        "\n",
        "    data = response.json()\n",
        "    weather = data['weather'][0]['description']\n",
        "    temperature = round(data['main']['temp']- 273.15,2 ) # for celsius\n",
        "\n",
        "    print('Weather: ', weather)\n",
        "    print('Temperature: ', temperature)\n",
        "else:\n",
        "    print(\"An error occured... \")"
      ],
      "metadata": {
        "id": "hThTxsK43ocx",
        "colab": {
          "base_uri": "https://localhost:8080/"
        },
        "outputId": "96d2160c-d35c-4949-ae18-5b455f666880"
      },
      "execution_count": 48,
      "outputs": [
        {
          "output_type": "stream",
          "name": "stdout",
          "text": [
            "Enter a city/state name: London\n",
            "Weather:  few clouds\n",
            "Temperature:  11.88\n"
          ]
        }
      ]
    }
  ]
}