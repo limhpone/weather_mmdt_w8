{
  "nbformat": 4,
  "nbformat_minor": 0,
  "metadata": {
    "colab": {
      "provenance": []
    },
    "kernelspec": {
      "name": "python3",
      "display_name": "Python 3"
    },
    "language_info": {
      "name": "python"
    }
  },
  "cells": [
    {
      "cell_type": "code",
      "execution_count": 2,
      "metadata": {
        "id": "pTc2wTL-V0xK"
      },
      "outputs": [],
      "source": [
        "import requests\n",
        "import pandas as pd"
      ]
    },
    {
      "cell_type": "code",
      "source": [
        "#EXTRACT\n",
        "def extract_weather_data(location, base_url, api_key):\n",
        "    url = f\"{base_url}?appid={api_key}&q={location}\"\n",
        "    try:\n",
        "        response = requests.get(url)\n",
        "        response.raise_for_status()  # exception for bad responses\n",
        "        return response.json()\n",
        "    except Exception as e:\n",
        "        print(f\"Error during API request: {e}\")\n",
        "        return None\n",
        "\n",
        "# TRANSFORM\n",
        "def transform_weather_data(weather):\n",
        "    if weather:\n",
        "        try:\n",
        "            data = f\"Location Name: {weather['name']}\\n\" \\\n",
        "                   f\"Temperature Min: {weather['main']['temp_min']} K\\n\" \\\n",
        "                   f\"Temperature Max: {weather['main']['temp_max']} K\\n\" \\\n",
        "                   f\"Weather Description/Condition: {weather['weather'][0]['description']}\\n\"\n",
        "            return data\n",
        "        except KeyError:\n",
        "            return \"Wrong. Check if the location is correct.\"\n",
        "    else:\n",
        "        return \"No weather data to display.\"\n",
        "\n",
        "#LOAD\n",
        "def load_data_to_console(data):\n",
        "    print(data)\n",
        "\n",
        "# MAIN LOOP\n",
        "def main():\n",
        "    base_url = \"http://api.openweathermap.org/data/2.5/weather\"\n",
        "    api_key = \"07a03f94ad51150199d0f7a8624c7313\"\n",
        "\n",
        "    while True:\n",
        "        location = input(\"\\nEnter the Location: \")\n",
        "        raw_weather = extract_weather_data(location, base_url, api_key)\n",
        "        formatted_data = transform_weather_data(raw_weather)\n",
        "        load_data_to_console(formatted_data)\n",
        "\n",
        "        cont = input(\"Do you want to continue? (Y/N): \").strip().lower()\n",
        "        if cont != 'y':\n",
        "            print(\"Exiting... Goodbye!\")\n",
        "            break\n",
        "\n",
        "# Run the program\n",
        "if __name__ == \"__main__\":\n",
        "    main()\n"
      ],
      "metadata": {
        "colab": {
          "base_uri": "https://localhost:8080/"
        },
        "id": "14apmz5z-dll",
        "outputId": "d0626091-7c4a-43f6-c29f-546161d164d9"
      },
      "execution_count": 11,
      "outputs": [
        {
          "output_type": "stream",
          "name": "stdout",
          "text": [
            "\n",
            "Enter the Location: Yangon\n",
            "Location Name: Yangon\n",
            "Temperature Min: 306.03 K\n",
            "Temperature Max: 306.03 K\n",
            "Weather Description/Condition: few clouds\n",
            "\n",
            "Do you want to continue? (Y/N): Y\n",
            "\n",
            "Enter the Location: Myanmar\n",
            "Location Name: Myanmar\n",
            "Temperature Min: 303.66 K\n",
            "Temperature Max: 303.66 K\n",
            "Weather Description/Condition: clear sky\n",
            "\n",
            "Do you want to continue? (Y/N): Y\n",
            "\n",
            "Enter the Location: London\n",
            "Location Name: London\n",
            "Temperature Min: 283.55 K\n",
            "Temperature Max: 283.55 K\n",
            "Weather Description/Condition: overcast clouds\n",
            "\n",
            "Do you want to continue? (Y/N): N\n",
            "Exiting... Goodbye!\n"
          ]
        }
      ]
    }
  ]
}